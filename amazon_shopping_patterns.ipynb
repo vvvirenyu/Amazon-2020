{
 "cells": [
  {
   "cell_type": "code",
   "execution_count": 6,
   "metadata": {},
   "outputs": [
    {
     "name": "stdout",
     "output_type": "stream",
     "text": [
      "{2, 3} {1, 3, 4} {3}\n",
      "{2, 3} {1, 2, 4} {2}\n",
      "{1, 3, 4} {1, 2, 4} {1, 4}\n",
      "{1, 3, 4} {2, 3, 5} {3}\n",
      "{1, 2, 4} {2, 3, 5} {2}\n",
      "{2, 3, 5} {4} set()\n"
     ]
    },
    {
     "data": {
      "text/plain": [
       "2"
      ]
     },
     "execution_count": 6,
     "metadata": {},
     "output_type": "execute_result"
    }
   ],
   "source": [
    "from collections import defaultdict\n",
    "def minimum(products_nodes, products_edges, edges):\n",
    "    ans = float('inf')\n",
    "    graph = defaultdict(set)\n",
    "    for edge in edges:\n",
    "        graph[edge[0]].add(edge[1])\n",
    "        graph[edge[1]].add(edge[0])\n",
    "\n",
    "    for A,B in edges:     #O(N)\n",
    "\n",
    "        cs = graph[A] & graph[B]   #O(M)\n",
    "        print(graph[A],graph[B], cs)\n",
    "        for C in cs:    #O(M)\n",
    "            if C != A and C != B:\n",
    "                ans = min(ans, (len(graph[A])-2) + (len(graph[B])-2) + (len(graph[C])-2))\n",
    "\n",
    "    return ans\n",
    "\n",
    "# minimum(6,6,[[1,2],[2,4],[2,5],[3,5],[4,5],[5,6]])\n",
    "minimum(5,6,[[1,2],[1,3],[2,3],[2,4],[3,4],[4,5]])"
   ]
  },
  {
   "cell_type": "code",
   "execution_count": null,
   "metadata": {},
   "outputs": [],
   "source": []
  }
 ],
 "metadata": {
  "kernelspec": {
   "display_name": "Python 3",
   "language": "python",
   "name": "python3"
  },
  "language_info": {
   "codemirror_mode": {
    "name": "ipython",
    "version": 3
   },
   "file_extension": ".py",
   "mimetype": "text/x-python",
   "name": "python",
   "nbconvert_exporter": "python",
   "pygments_lexer": "ipython3",
   "version": "3.7.5"
  }
 },
 "nbformat": 4,
 "nbformat_minor": 2
}
