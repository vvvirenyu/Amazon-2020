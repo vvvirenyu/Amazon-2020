{
 "cells": [
  {
   "cell_type": "markdown",
   "metadata": {},
   "source": [
    "\n",
    "Beta testing               - 1335 Minimum difficulty of a job schedule\n",
    "Number of islands          - 200 number of islands\n",
    "Most common word.          - 819 Most common word\n",
    "Robotics challenge         - 682 baseball game\n",
    "K closest point to origin  - 973 K closest points to origin\n",
    "Gifting groups             - 547 Friend circle\n",
    "\n",
    "Partition labels           - 763 partition label \n",
    "Reorder Data in Log Files  - 937 Reorder Data in Log Files\n",
    "Min cost to connect ropes  - PM  Minimum cost to connect sticks\n",
    "Treasure island            - PM  Walls and gates\n",
    "Treasure island 2.         - 542 01 matrix\n",
    "Find pair with given sum.  - Tw\n"
   ]
  }
 ],
 "metadata": {
  "kernelspec": {
   "display_name": "Python 3",
   "language": "python",
   "name": "python3"
  },
  "language_info": {
   "codemirror_mode": {
    "name": "ipython",
    "version": 3
   },
   "file_extension": ".py",
   "mimetype": "text/x-python",
   "name": "python",
   "nbconvert_exporter": "python",
   "pygments_lexer": "ipython3",
   "version": "3.7.5"
  }
 },
 "nbformat": 4,
 "nbformat_minor": 2
}
