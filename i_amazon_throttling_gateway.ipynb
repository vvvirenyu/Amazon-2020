{
 "cells": [
  {
   "cell_type": "code",
   "execution_count": 1,
   "metadata": {},
   "outputs": [
    {
     "data": {
      "text/plain": [
       "7"
      ]
     },
     "execution_count": 1,
     "metadata": {},
     "output_type": "execute_result"
    }
   ],
   "source": [
    "def Throttling2 (n,timeline):\n",
    "    drop=0\n",
    "    for i in range(3,n):\n",
    "        if timeline[i]==timeline[i-3]:\n",
    "            drop+=1\n",
    "            continue\n",
    "        if i>19 and timeline[i]-timeline[i-20]<10:\n",
    "            drop+=1\n",
    "            continue\n",
    "        if i>59 and timeline[i]-timeline[i-60]<60:\n",
    "            drop+=1\n",
    "            continue\n",
    "    return drop\n",
    "\n",
    "Throttling2(27, [1,1,1,1,2,2,2,3,3,3,4,4,4,5,5,5,6,6,6,7,7,7,7,11,11,11,11])"
   ]
  },
  {
   "cell_type": "code",
   "execution_count": null,
   "metadata": {},
   "outputs": [],
   "source": []
  }
 ],
 "metadata": {
  "kernelspec": {
   "display_name": "Python 3",
   "language": "python",
   "name": "python3"
  },
  "language_info": {
   "codemirror_mode": {
    "name": "ipython",
    "version": 3
   },
   "file_extension": ".py",
   "mimetype": "text/x-python",
   "name": "python",
   "nbconvert_exporter": "python",
   "pygments_lexer": "ipython3",
   "version": "3.7.5"
  }
 },
 "nbformat": 4,
 "nbformat_minor": 2
}
