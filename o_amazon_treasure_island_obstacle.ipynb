{
 "cells": [
  {
   "cell_type": "code",
   "execution_count": 2,
   "metadata": {},
   "outputs": [
    {
     "data": {
      "text/plain": [
       "5"
      ]
     },
     "execution_count": 2,
     "metadata": {},
     "output_type": "execute_result"
    }
   ],
   "source": [
    "import collections \n",
    "def solution(m):\n",
    "    if len(m) == 0 or len(m[0]) == 0:\n",
    "        return -1  # impossible\n",
    "\n",
    "    matrix = [row[:] for row in m]\n",
    "    nrow, ncol = len(matrix), len(matrix[0])\n",
    "\n",
    "    q = collections.deque([((0, 0), 0)])  # ((x, y), step)\n",
    "    matrix[0][0] = \"D\"\n",
    "    while q:\n",
    "        (x, y), step = q.popleft()\n",
    "\n",
    "        for dx, dy in [[0, 1], [0, -1], [1, 0], [-1, 0]]:\n",
    "            if 0 <= x+dx < nrow and 0 <= y+dy < ncol:\n",
    "                if matrix[x+dx][y+dy] == \"X\":\n",
    "                    return step+1\n",
    "                elif matrix[x+dx][y+dy] == \"O\":\n",
    "                    # mark visited\n",
    "                    matrix[x + dx][y + dy] = \"D\"\n",
    "                    q.append(((x+dx, y+dy), step+1))\n",
    "\n",
    "    return -1\n",
    "    \n",
    "    \n",
    "solution([['O', 'O', 'O', 'O'],\n",
    " ['D', 'O', 'D', 'O'],\n",
    " ['O', 'O', 'O', 'O'],\n",
    " ['X', 'D', 'D', 'O']])"
   ]
  },
  {
   "cell_type": "code",
   "execution_count": null,
   "metadata": {},
   "outputs": [],
   "source": []
  }
 ],
 "metadata": {
  "kernelspec": {
   "display_name": "Python 3",
   "language": "python",
   "name": "python3"
  },
  "language_info": {
   "codemirror_mode": {
    "name": "ipython",
    "version": 3
   },
   "file_extension": ".py",
   "mimetype": "text/x-python",
   "name": "python",
   "nbconvert_exporter": "python",
   "pygments_lexer": "ipython3",
   "version": "3.7.5"
  }
 },
 "nbformat": 4,
 "nbformat_minor": 2
}
