{
 "cells": [
  {
   "cell_type": "code",
   "execution_count": 16,
   "metadata": {},
   "outputs": [
    {
     "data": {
      "text/plain": [
       "3"
      ]
     },
     "execution_count": 16,
     "metadata": {},
     "output_type": "execute_result"
    }
   ],
   "source": [
    "import heapq\n",
    "\n",
    "\n",
    "def getdiffrating(rating, total):\n",
    "    return ((rating+1)/(total+1)) - rating/total\n",
    "\n",
    "def fiveStars(ratings, threshold):\n",
    "    n = len(ratings)\n",
    "    threshold /= 100\n",
    "    ans = 0\n",
    "\n",
    "    rating_percent = sum (rating/total for rating,total in ratings) / n\n",
    "\n",
    "    heap = [(-1* getdiffrating(rating,total), rating, total) for rating, total in ratings]\n",
    "\n",
    "    heapq.heapify(heap)\n",
    "\n",
    "    while rating_percent < threshold:\n",
    "        _,rating,total = heapq.heappop(heap)\n",
    "\n",
    "        new_rating, new_total = rating+1, total+1\n",
    "\n",
    "        inc_rating = (new_rating/new_total) - (rating/total)\n",
    "\n",
    "        rating_percent += inc_rating/n\n",
    "\n",
    "        heapq.heappush(heap, (-1*getdiffrating(new_rating, new_total), new_rating, new_total))\n",
    "        \n",
    "        ans += 1\n",
    "\n",
    "    return ans\n",
    "\n",
    "fiveStars([[4, 4], [1, 2], [3, 6]], 77)"
   ]
  },
  {
   "cell_type": "code",
   "execution_count": null,
   "metadata": {},
   "outputs": [],
   "source": []
  }
 ],
 "metadata": {
  "kernelspec": {
   "display_name": "Python 3",
   "language": "python",
   "name": "python3"
  },
  "language_info": {
   "codemirror_mode": {
    "name": "ipython",
    "version": 3
   },
   "file_extension": ".py",
   "mimetype": "text/x-python",
   "name": "python",
   "nbconvert_exporter": "python",
   "pygments_lexer": "ipython3",
   "version": "3.7.5"
  }
 },
 "nbformat": 4,
 "nbformat_minor": 2
}
