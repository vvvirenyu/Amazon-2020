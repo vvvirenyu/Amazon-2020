{
 "cells": [
  {
   "cell_type": "code",
   "execution_count": 9,
   "metadata": {},
   "outputs": [
    {
     "data": {
      "text/plain": [
       "[0, 2]"
      ]
     },
     "execution_count": 9,
     "metadata": {},
     "output_type": "execute_result"
    }
   ],
   "source": [
    "def findPair(nums, target):\n",
    "    if not nums: return []\n",
    "    target -= 30\n",
    "    dic, cand = {}, {}\n",
    "    \n",
    "    for i,num in enumerate(nums):\n",
    "        if num in dic:\n",
    "            cand[max(num, target-num)] = [dic[num], i]\n",
    "        else:\n",
    "            dic[target-num] = i\n",
    "            \n",
    "    return cand[max(cand.keys())] if cand else [-1,-1]\n",
    "\n",
    "findPair([50, 20, 10, 40, 25, 30], 90)"
   ]
  },
  {
   "cell_type": "code",
   "execution_count": null,
   "metadata": {},
   "outputs": [],
   "source": []
  }
 ],
 "metadata": {
  "kernelspec": {
   "display_name": "Python 3",
   "language": "python",
   "name": "python3"
  },
  "language_info": {
   "codemirror_mode": {
    "name": "ipython",
    "version": 3
   },
   "file_extension": ".py",
   "mimetype": "text/x-python",
   "name": "python",
   "nbconvert_exporter": "python",
   "pygments_lexer": "ipython3",
   "version": "3.7.5"
  }
 },
 "nbformat": 4,
 "nbformat_minor": 2
}
