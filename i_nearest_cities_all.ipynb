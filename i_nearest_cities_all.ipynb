{
 "cells": [
  {
   "cell_type": "code",
   "execution_count": null,
   "metadata": {},
   "outputs": [],
   "source": [
    "def getDistance(x1,y1,x2,y2):\n",
    "    distance = abs(x1-x2)+abs(y1-y2)\n",
    "    return distance\n",
    "    \n",
    "def getNeighbours(queryCity, xCoordinates, yCoordinates):\n",
    "    finalList = []\n",
    "    minDist = float('inf')\n",
    "\n",
    "    ind = cities.index(queryCity)\n",
    "    x = xCoordinates[ind]\n",
    "    y = yCoordinates[ind]\n",
    "\n",
    "    for i in range(0, numOfCities):\n",
    "        if i != ind and (xCoordinates[i] == x or yCoordinates[i] == y) :\n",
    "            distance = getDistance(x, y, xCoordinates[i], yCoordinates[i])\n",
    "            if distance < minDist:\n",
    "                finalList = []\n",
    "                minDist = distance\n",
    "                finalList.append(i)\n",
    "            elif distance == minDist:\n",
    "                finalList.append(i)\n",
    "    return finalList\n",
    "    \n",
    "def findNearestCities(numOfCities: int, cities: List[str], x_cor: List[int], y_cor: List[int],\n",
    "                      numOfQueries: int, queries: List[str]) -> List[str]:\n",
    "    result = []\n",
    "    for city in queries:\n",
    "        temp = getNeighbours(city, xCoordinates, yCoordinates)\n",
    "        if len(temp) == 1:\n",
    "            result.append(cities[temp[0]])\n",
    "        elif len(temp) == 0:\n",
    "            result.append(None)\n",
    "        else:\n",
    "            cityList = []\n",
    "            for ele in temp:\n",
    "                cityList.append(cities[ele])\n",
    "            result.append(sorted(cityList)[0])\n",
    "    return result"
   ]
  }
 ],
 "metadata": {
  "kernelspec": {
   "display_name": "Python 3",
   "language": "python",
   "name": "python3"
  },
  "language_info": {
   "codemirror_mode": {
    "name": "ipython",
    "version": 3
   },
   "file_extension": ".py",
   "mimetype": "text/x-python",
   "name": "python",
   "nbconvert_exporter": "python",
   "pygments_lexer": "ipython3",
   "version": "3.7.5"
  }
 },
 "nbformat": 4,
 "nbformat_minor": 2
}
