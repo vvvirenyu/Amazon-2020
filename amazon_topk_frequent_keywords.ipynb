{
 "cells": [
  {
   "cell_type": "code",
   "execution_count": 44,
   "metadata": {},
   "outputs": [
    {
     "data": {
      "text/plain": [
       "['betacellular', 'anacell']"
      ]
     },
     "execution_count": 44,
     "metadata": {},
     "output_type": "execute_result"
    }
   ],
   "source": [
    "## note that this is (N log N) solution \n",
    "## for (N log K) use heap solution from leetcode # 692 top k frequent words\n",
    "\n",
    "\n",
    "import collections \n",
    "import re\n",
    "\n",
    "def mostFreq(reviews, keywords, k):\n",
    "    \n",
    "    freq = collections.defaultdict()\n",
    "    \n",
    "    keywords = [k.lower() for k in keywords]\n",
    "    \n",
    "    for review in reviews:\n",
    "        visited = set()\n",
    "        review = re.sub('[^a-z0-9]', ' ', review.lower())\n",
    "        \n",
    "        for word in review.split():\n",
    "            if word not in visited and word in keywords:\n",
    "                freq[word] = freq.get(word, 0) + 1\n",
    "                visited.add(word)\n",
    "             \n",
    "    freq = sorted(freq.items(), key= lambda x: (-x[1],x[0]))\n",
    "    return [word for word, count in freq][:k]\n",
    "        \n",
    "\n",
    "mostFreq([\n",
    "    \"deltacellular provides much better services than betacellular\",\n",
    "  \"I love anacell Best services; Best services provided by anacell\",\n",
    "  \"betacellular has great services\",\n",
    "  \"cetracular is worse than anacell\",\n",
    "  \"Betacellular is better than deltacellular.\",\n",
    "], [\"anacell\", \"betacellular\", \"cetracular\", \"deltacellular\", \"eurocell\"]\n",
    ",2)"
   ]
  },
  {
   "cell_type": "code",
   "execution_count": null,
   "metadata": {},
   "outputs": [],
   "source": []
  }
 ],
 "metadata": {
  "kernelspec": {
   "display_name": "Python 3",
   "language": "python",
   "name": "python3"
  },
  "language_info": {
   "codemirror_mode": {
    "name": "ipython",
    "version": 3
   },
   "file_extension": ".py",
   "mimetype": "text/x-python",
   "name": "python",
   "nbconvert_exporter": "python",
   "pygments_lexer": "ipython3",
   "version": "3.7.5"
  }
 },
 "nbformat": 4,
 "nbformat_minor": 2
}
