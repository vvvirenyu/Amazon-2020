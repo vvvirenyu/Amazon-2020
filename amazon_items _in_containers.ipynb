{
 "cells": [
  {
   "cell_type": "markdown",
   "metadata": {},
   "source": [
    "### Items in Containers\n",
    "\n",
    "Amazon would like to know how much inventory exists in their closed inventory compartments. Given a string s\n",
    "consisting of items as \"*\" and closed compartments as an open and close \"|\", an array of starting indices\n",
    "startIndices, and an array of ending indices endIndices, determine the number of items in closed compartments\n",
    "within the substring between the two indices, inclusive."
   ]
  },
  {
   "cell_type": "code",
   "execution_count": 23,
   "metadata": {},
   "outputs": [
    {
     "data": {
      "text/plain": [
       "[2, 3]"
      ]
     },
     "execution_count": 23,
     "metadata": {},
     "output_type": "execute_result"
    }
   ],
   "source": [
    "def countStars(s, startis, endis):\n",
    "    n = len(s)\n",
    "    left, right = [0]*n, [0]*n\n",
    "    presum = [0]*(n+1)\n",
    "    \n",
    "    left_curr, right_curr = -1, -1\n",
    "    res = []\n",
    "    for i in range(n):\n",
    "        if s[i] == '|': left_curr = i\n",
    "        left[i] = left_curr\n",
    "    \n",
    "    for i in range(n-1,-1,-1):\n",
    "        if s[i] == '|': right_curr = i\n",
    "        right[i] = right_curr\n",
    "    \n",
    "    for i in range(n):\n",
    "        presum[i] = presum[i-1] + (s[i] == '*')\n",
    "    \n",
    "    for i in range(len(startis)):\n",
    "        b,e = right[startis[i]-1], left[endis[i]-1]\n",
    "        res.append(presum[e] - presum[b] if b < e else 0)\n",
    "    \n",
    "    return res\n",
    "    \n",
    "countStars('|**|*|*', [1,1],[5,6])"
   ]
  },
  {
   "cell_type": "code",
   "execution_count": null,
   "metadata": {},
   "outputs": [],
   "source": []
  }
 ],
 "metadata": {
  "kernelspec": {
   "display_name": "Python 3",
   "language": "python",
   "name": "python3"
  },
  "language_info": {
   "codemirror_mode": {
    "name": "ipython",
    "version": 3
   },
   "file_extension": ".py",
   "mimetype": "text/x-python",
   "name": "python",
   "nbconvert_exporter": "python",
   "pygments_lexer": "ipython3",
   "version": "3.7.5"
  }
 },
 "nbformat": 4,
 "nbformat_minor": 2
}
