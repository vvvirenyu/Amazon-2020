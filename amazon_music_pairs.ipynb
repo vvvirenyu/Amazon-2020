{
 "cells": [
  {
   "cell_type": "markdown",
   "metadata": {},
   "source": [
    " User can choose any songs that they want to add to the community list, but only in pairs of songs with durations that add up to a multiple of 60 seconds (60, 120, 180... )\n",
    "\n",
    "calculate distinct song paris "
   ]
  },
  {
   "cell_type": "code",
   "execution_count": 12,
   "metadata": {},
   "outputs": [
    {
     "name": "stdout",
     "output_type": "stream",
     "text": [
      "1\n"
     ]
    },
    {
     "data": {
      "text/plain": [
       "1"
      ]
     },
     "execution_count": 12,
     "metadata": {},
     "output_type": "execute_result"
    }
   ],
   "source": [
    "from collections import defaultdict\n",
    "\n",
    "def findPairs(songs):\n",
    "    pairs = 0\n",
    "    \n",
    "    if not songs: return pairs\n",
    "    \n",
    "    d = defaultdict(int)\n",
    "    \n",
    "    for i in range(len(songs)):\n",
    "        mod = songs[i] % 60\n",
    "        \n",
    "        find = 0 if mod == 0 else 60 - mod\n",
    "        \n",
    "        pairs += d[find]\n",
    "        \n",
    "        d[mod] += 1\n",
    "        \n",
    "    return pairs\n",
    "\n",
    "    \n",
    "findPairs([37,23, 60])"
   ]
  },
  {
   "cell_type": "code",
   "execution_count": null,
   "metadata": {},
   "outputs": [],
   "source": []
  }
 ],
 "metadata": {
  "kernelspec": {
   "display_name": "Python 3",
   "language": "python",
   "name": "python3"
  },
  "language_info": {
   "codemirror_mode": {
    "name": "ipython",
    "version": 3
   },
   "file_extension": ".py",
   "mimetype": "text/x-python",
   "name": "python",
   "nbconvert_exporter": "python",
   "pygments_lexer": "ipython3",
   "version": "3.7.5"
  }
 },
 "nbformat": 4,
 "nbformat_minor": 2
}
