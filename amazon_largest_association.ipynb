{
 "cells": [
  {
   "cell_type": "code",
   "execution_count": 1,
   "metadata": {},
   "outputs": [
    {
     "name": "stdout",
     "output_type": "stream",
     "text": [
      "['item3', 'item4', 'item5']\n",
      "['item1', 'item2', 'item3', 'item4', 'item5']\n"
     ]
    }
   ],
   "source": [
    "from collections import deque, defaultdict\n",
    "\n",
    "def largest_item_association(item_association):\n",
    "    item_map = defaultdict(set)\n",
    "    \n",
    "    for item_pair in item_association:\n",
    "        item_map[item_pair[0]].add(item_pair[1])\n",
    "        item_map[item_pair[1]].add(item_pair[0])\n",
    "    \n",
    "    largest_group = []\n",
    "    visited = set()\n",
    "\n",
    "    for key, val in item_map.items():\n",
    "        if key not in visited:\n",
    "            curr_group = []\n",
    "            q = deque()\n",
    "            q.append(key)\n",
    "            while q:\n",
    "                curr = q.popleft()\n",
    "                visited.add(curr)\n",
    "                curr_group.append(curr)\n",
    "                for neighbor in item_map[curr]:\n",
    "                    if neighbor not in visited:\n",
    "                        q.append(neighbor)\n",
    "            if len(curr_group) > len(largest_group):\n",
    "                largest_group = curr_group.copy()\n",
    "    \n",
    "    largest_group.sort()\n",
    "    return largest_group\n",
    "\n",
    "\n",
    "print(largest_item_association([['item1', 'item2'], ['item3', 'item4'], ['item4', 'item5']]))\n",
    "print(largest_item_association([['item1', 'item2'], ['item4', 'item5'], ['item3', 'item4'], [\"item1\",\"item4\"]]))"
   ]
  },
  {
   "cell_type": "code",
   "execution_count": null,
   "metadata": {},
   "outputs": [],
   "source": []
  }
 ],
 "metadata": {
  "kernelspec": {
   "display_name": "Python 3",
   "language": "python",
   "name": "python3"
  },
  "language_info": {
   "codemirror_mode": {
    "name": "ipython",
    "version": 3
   },
   "file_extension": ".py",
   "mimetype": "text/x-python",
   "name": "python",
   "nbconvert_exporter": "python",
   "pygments_lexer": "ipython3",
   "version": "3.7.5"
  }
 },
 "nbformat": 4,
 "nbformat_minor": 2
}
