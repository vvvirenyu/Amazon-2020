{
 "cells": [
  {
   "cell_type": "code",
   "execution_count": 4,
   "metadata": {},
   "outputs": [
    {
     "data": {
      "text/plain": [
       "[29323, 38239, 345366]"
      ]
     },
     "execution_count": 4,
     "metadata": {},
     "output_type": "execute_result"
    }
   ],
   "source": [
    "from collections import defaultdict\n",
    "def getFrauds(logs, threshold):\n",
    "    \n",
    "    res = []\n",
    "    data = defaultdict(int)\n",
    "    for log in logs:\n",
    "        for user in set(log.split(' ')[:2]):\n",
    "            data[user] +=1\n",
    "            \n",
    "    for user in data:\n",
    "        if data[user] >= threshold:\n",
    "            # change here if sorting problem\n",
    "#             res.append(user)\n",
    "            res.append(int(user))\n",
    "            \n",
    "    return sorted(res)\n",
    "\n",
    "getFrauds(['345366 89921 45',\n",
    "           '029323 38239 23',\n",
    "           '38239 345366 15',\n",
    "           '029323 38239 77',\n",
    "           '345366 38239 23',\n",
    "           '029323 345366 13',\n",
    "           '38239 38239 23'],\n",
    "          3)"
   ]
  },
  {
   "cell_type": "code",
   "execution_count": null,
   "metadata": {},
   "outputs": [],
   "source": []
  }
 ],
 "metadata": {
  "kernelspec": {
   "display_name": "Python 3",
   "language": "python",
   "name": "python3"
  },
  "language_info": {
   "codemirror_mode": {
    "name": "ipython",
    "version": 3
   },
   "file_extension": ".py",
   "mimetype": "text/x-python",
   "name": "python",
   "nbconvert_exporter": "python",
   "pygments_lexer": "ipython3",
   "version": "3.7.5"
  }
 },
 "nbformat": 4,
 "nbformat_minor": 2
}
