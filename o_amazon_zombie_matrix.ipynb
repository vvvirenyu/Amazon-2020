{
 "cells": [
  {
   "cell_type": "code",
   "execution_count": null,
   "metadata": {},
   "outputs": [],
   "source": [
    "def minHour(self, rows, columns, grid):\n",
    "    if not rows or not columns:\n",
    "        return 0\n",
    "\n",
    "    q = [[i,j] for i in range(rows) for j in range(columns) if grid[i][j]==1]\n",
    "    directions = [[1,0],[-1,0],[0,1],[0,-1]]\n",
    "    time = 0\n",
    "\n",
    "    while True:\n",
    "        new = []\n",
    "        for [i,j] in q:\n",
    "            for d in directions:\n",
    "                ni, nj = i + d[0], j + d[1]\n",
    "                if 0 <= ni < rows and 0 <= nj < columns and grid[ni][nj] == 0:\n",
    "                    grid[ni][nj] = 1\n",
    "                    new.append([ni,nj])\n",
    "        q = new\n",
    "        if not q:\n",
    "            break\n",
    "        time += 1\n",
    "\n",
    "    return time"
   ]
  }
 ],
 "metadata": {
  "kernelspec": {
   "display_name": "Python 3",
   "language": "python",
   "name": "python3"
  },
  "language_info": {
   "codemirror_mode": {
    "name": "ipython",
    "version": 3
   },
   "file_extension": ".py",
   "mimetype": "text/x-python",
   "name": "python",
   "nbconvert_exporter": "python",
   "pygments_lexer": "ipython3",
   "version": "3.7.5"
  }
 },
 "nbformat": 4,
 "nbformat_minor": 2
}
