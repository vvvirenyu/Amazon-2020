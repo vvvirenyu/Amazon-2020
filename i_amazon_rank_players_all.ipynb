{
 "cells": [
  {
   "cell_type": "code",
   "execution_count": null,
   "metadata": {},
   "outputs": [],
   "source": [
    "## hopefully better solution\n",
    "\n",
    "def countLevelUpPlayers(cutOffRank, num, scores):   \n",
    "    \n",
    "    counts = [0 for i in range(101)]\n",
    "    for score in scores:\n",
    "        counts[score]+=1\n",
    "    \n",
    "    rank = 0\n",
    "    for i in range(100, -1, -1):\n",
    "        rank+=counts[i]\n",
    "        if (cutOffRank <= rank):\n",
    "            break\n",
    "    \n",
    "    return rank\n",
    "\n"
   ]
  },
  {
   "cell_type": "code",
   "execution_count": null,
   "metadata": {},
   "outputs": [],
   "source": [
    "def countLevelUpPlayers(cutOffRank, num, scores):   \n",
    "    \n",
    "    scores.sort()\n",
    "    if cutOffRank == 0: return 0\n",
    "    \n",
    "    res = cutOffRank\n",
    "    if (scores[num - cutOffRank] == 0):\n",
    "        counter = 0\n",
    "        while num - cutOffRank + counter < num and scores[num - cutOffRank + counter] == 0:\n",
    "            counter += 1\n",
    "            res -= 1\n",
    "        return res\n",
    "\n",
    "    i = cutOffRank\n",
    "    while ((num - 1 - i) >= 0 and scores[num - 1 - i] == scores[num - cutOffRank]):\n",
    "        res += 1\n",
    "        i += 1\n",
    "\n",
    "    return res"
   ]
  }
 ],
 "metadata": {
  "kernelspec": {
   "display_name": "Python 3",
   "language": "python",
   "name": "python3"
  },
  "language_info": {
   "codemirror_mode": {
    "name": "ipython",
    "version": 3
   },
   "file_extension": ".py",
   "mimetype": "text/x-python",
   "name": "python",
   "nbconvert_exporter": "python",
   "pygments_lexer": "ipython3",
   "version": "3.7.5"
  }
 },
 "nbformat": 4,
 "nbformat_minor": 2
}
