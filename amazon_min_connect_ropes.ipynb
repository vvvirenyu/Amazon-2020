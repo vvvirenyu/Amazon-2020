{
 "cells": [
  {
   "cell_type": "code",
   "execution_count": 4,
   "metadata": {},
   "outputs": [
    {
     "name": "stdout",
     "output_type": "stream",
     "text": [
      "54\n",
      "224\n",
      "20\n"
     ]
    }
   ],
   "source": [
    "import heapq\n",
    "\n",
    "def minCost(ropes):\n",
    "    if not ropes or len(ropes) <= 1: return 0\n",
    "    \n",
    "    heapq.heapify(ropes)\n",
    "    cost = 0\n",
    "    \n",
    "    while len(ropes) > 1:\n",
    "        a,b = heapq.heappop(ropes), heapq.heappop(ropes)\n",
    "        cost += a+b\n",
    "        if ropes: heapq.heappush(ropes, a+b)\n",
    "    \n",
    "    return cost\n",
    "\n",
    "print(minCost([20, 4, 8, 2]))\n",
    "print(minCost([1, 2, 5, 10, 35, 89]))\n",
    "print(minCost([2, 2, 3, 3]))"
   ]
  },
  {
   "cell_type": "code",
   "execution_count": null,
   "metadata": {},
   "outputs": [],
   "source": []
  }
 ],
 "metadata": {
  "kernelspec": {
   "display_name": "Python 3",
   "language": "python",
   "name": "python3"
  },
  "language_info": {
   "codemirror_mode": {
    "name": "ipython",
    "version": 3
   },
   "file_extension": ".py",
   "mimetype": "text/x-python",
   "name": "python",
   "nbconvert_exporter": "python",
   "pygments_lexer": "ipython3",
   "version": "3.7.5"
  }
 },
 "nbformat": 4,
 "nbformat_minor": 2
}
