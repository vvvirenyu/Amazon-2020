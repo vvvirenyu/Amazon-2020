{
 "cells": [
  {
   "cell_type": "markdown",
   "metadata": {},
   "source": [
    "Given word and dictionary of words, search the word in dictionary such that, more than one occurances can be skipped while matching.\n",
    "\n",
    "Examples below :\n",
    "\n",
    "    \n",
    "example 1 :\n",
    "\n",
    "word = \"lleeetttcooodddee\"\n",
    "dictionary = [\"letcode\", \"leettccf\", \"lleetcode\", \"leetcod\"]\n",
    "\n",
    "output : true"
   ]
  },
  {
   "cell_type": "code",
   "execution_count": 5,
   "metadata": {},
   "outputs": [
    {
     "name": "stdout",
     "output_type": "stream",
     "text": [
      "letcode\n",
      "True\n",
      "leettccf\n",
      "lleetcode\n",
      "True\n",
      "leetcod\n"
     ]
    },
    {
     "data": {
      "text/plain": [
       "False"
      ]
     },
     "execution_count": 5,
     "metadata": {},
     "output_type": "execute_result"
    }
   ],
   "source": [
    "def worddict(s, dictionary):\n",
    "\n",
    "    for w in dictionary:\n",
    "\n",
    "        si,sj,wi,wj = 0,0,0,0\n",
    "        notequal = False\n",
    "\n",
    "        while si<len(s) and wi<len(w) and sj<len(s) and wj<len(w):\n",
    "            if s[si] != w[wi]:\n",
    "                notequal = True\n",
    "                break\n",
    "\n",
    "            while sj < len(s) and s[si] == s[sj]:\n",
    "                sj += 1\n",
    "\n",
    "            while wj < len(w) and w[wi] == w[wj]:\n",
    "                wj += 1\n",
    "\n",
    "            si = sj\n",
    "            wi = wj\n",
    "\n",
    "        # reached the end of both strings\n",
    "        if not notequal and (wi == len(w) and si == len(s)) : return True\n",
    "\n",
    "    return False\n",
    "\n",
    "\n",
    "worddict(\"lleeetttcooodddee\",[\"letcode\", \"leettccf\", \"lleetcode\", \"leetcod\"])\n"
   ]
  },
  {
   "cell_type": "code",
   "execution_count": null,
   "metadata": {},
   "outputs": [],
   "source": [
    "string wordInDictionary(string word, vector<string>& dict) {\n",
    "    \n",
    "    for(string s : dict) {\n",
    "        int j = 0;\n",
    "        bool equal = true;\n",
    "        for(int i = 0; i < word.size(); i++) {\n",
    "            if(word[i] == s[j]) {\n",
    "                j++;\n",
    "            }\n",
    "            if(j == s.size()) { // if string found check rest part of word\n",
    "                                // if it's equal we can skip it\n",
    "                for(int z = i + 1; z < word.size(); z++) {\n",
    "                    if(word[z] != word[z - 1]) {\n",
    "                        equal = false;\n",
    "                        break;\n",
    "                    }\n",
    "                }\n",
    "                break;\n",
    "            }\n",
    "        }\n",
    "        if(j == s.size() && equal) return s;\n",
    "    }\n",
    "    return \"\";\n",
    "}"
   ]
  }
 ],
 "metadata": {
  "kernelspec": {
   "display_name": "Python 3",
   "language": "python",
   "name": "python3"
  },
  "language_info": {
   "codemirror_mode": {
    "name": "ipython",
    "version": 3
   },
   "file_extension": ".py",
   "mimetype": "text/x-python",
   "name": "python",
   "nbconvert_exporter": "python",
   "pygments_lexer": "ipython3",
   "version": "3.7.5"
  }
 },
 "nbformat": 4,
 "nbformat_minor": 2
}
