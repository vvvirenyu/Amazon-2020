{
 "cells": [
  {
   "cell_type": "code",
   "execution_count": 1,
   "metadata": {},
   "outputs": [
    {
     "data": {
      "text/plain": [
       "8"
      ]
     },
     "execution_count": 1,
     "metadata": {},
     "output_type": "execute_result"
    }
   ],
   "source": [
    "import collections\n",
    "def minComplexity(jobDifficulty, d):\n",
    "    if len(jobDifficulty) < d:\n",
    "        return -1\n",
    "\n",
    "    n = len(jobDifficulty)\n",
    "\n",
    "\n",
    "    dp = [[float('inf')]*(d+1) for _ in range(n+1) ]\n",
    "    dp[0][0] = 0\n",
    "    for i in range(1,n+1):\n",
    "        for k in range(i):\n",
    "            maxval = max(jobDifficulty[k:i])\n",
    "            for j in range(1,min(i+1,d+1)):\n",
    "                dp[i][j] = min( dp[i][j], dp[k][j-1]+  maxval)\n",
    "                \n",
    "    return dp[n][d]\n",
    "\n",
    "minComplexity([3,1,4,2,5], 2)"
   ]
  },
  {
   "cell_type": "code",
   "execution_count": 10,
   "metadata": {},
   "outputs": [],
   "source": [
    "### O(nnd) solution above\n"
   ]
  },
  {
   "cell_type": "code",
   "execution_count": null,
   "metadata": {},
   "outputs": [],
   "source": [
    "import collections\n",
    "def minComplexity(jobDifficulty, d):\n",
    "    if len(jobDifficulty) < d:\n",
    "        return -1\n",
    "\n",
    "    n = len(jobDifficulty)\n",
    "\n",
    "    maxval = collections.defaultdict(int)\n",
    "    for i in range(1,n+1):\n",
    "        for k in range(i):\n",
    "            maxval[(k,i)] = max(jobDifficulty[k:i])\n",
    "\n",
    "    dp = [[float('inf')]*(d+1) for _ in range(n+1) ]\n",
    "    dp[0][0] = 0\n",
    "    for i in range(1,n+1):\n",
    "        for j in range(1,min(i+1,d+1)):\n",
    "            for k in range(i):\n",
    "                dp[i][j] = min( dp[i][j], dp[k][j-1]+  maxval[(k,i)])\n",
    "                \n",
    "    return dp[n][d]\n",
    "\n",
    "minComplexity([3,1,4,2,5], 2)"
   ]
  },
  {
   "cell_type": "code",
   "execution_count": 11,
   "metadata": {},
   "outputs": [
    {
     "data": {
      "text/plain": [
       "8"
      ]
     },
     "execution_count": 11,
     "metadata": {},
     "output_type": "execute_result"
    }
   ],
   "source": [
    "def minComplexity(A, d):\n",
    "    n = len(A)\n",
    "    dp, dp2 = [float('inf')] * n, [0] * n\n",
    "    if n < d: return -1\n",
    "    for d in range(d):\n",
    "        stack = []\n",
    "        for i in range(d, n):\n",
    "            dp2[i] = dp[i - 1] + A[i] if i else A[i]\n",
    "            while stack and A[stack[-1]] <= A[i]:\n",
    "                j = stack.pop()\n",
    "                dp2[i] = min(dp2[i], dp2[j] - A[j] + A[i])\n",
    "            if stack:\n",
    "                dp2[i] = min(dp2[i], dp2[stack[-1]])\n",
    "            stack.append(i)\n",
    "        dp, dp2 = dp2, [0] * n\n",
    "    return dp[-1]\n",
    "minComplexity([3,1,4,2,5], 2)"
   ]
  },
  {
   "cell_type": "code",
   "execution_count": null,
   "metadata": {},
   "outputs": [],
   "source": []
  }
 ],
 "metadata": {
  "kernelspec": {
   "display_name": "Python 3",
   "language": "python",
   "name": "python3"
  },
  "language_info": {
   "codemirror_mode": {
    "name": "ipython",
    "version": 3
   },
   "file_extension": ".py",
   "mimetype": "text/x-python",
   "name": "python",
   "nbconvert_exporter": "python",
   "pygments_lexer": "ipython3",
   "version": "3.7.5"
  }
 },
 "nbformat": 4,
 "nbformat_minor": 2
}
