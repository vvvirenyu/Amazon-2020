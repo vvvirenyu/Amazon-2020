{
 "cells": [
  {
   "cell_type": "code",
   "execution_count": null,
   "metadata": {},
   "outputs": [],
   "source": [
    "def optimizeMemoryUsage(foregroundTasks, backgroundTasks, K):\n",
    "    \"\"\"\n",
    "    :type foregroundTasks: List[int]\n",
    "    :type backgroundTasks: List[int]\n",
    "    :type K: int\n",
    "    :rtype: List[List[int]]\n",
    "    \"\"\"           \n",
    "    a,b = [],[]\n",
    "    for i,f in enumerate(foregroundTasks):\n",
    "        a.append([i,f])\n",
    "    for i,bg in enumerate(backgroundTasks):\n",
    "        b.append([i,bg])\n",
    "\n",
    "    a.sort(key=lambda x: x[1])\n",
    "    b.sort(key=lambda x: x[1])\n",
    "    i, j = 0, len(b) - 1\n",
    "    ans = []\n",
    "    mx = float('-inf')\n",
    "    \n",
    "\n",
    "    while i < len(a) and j >= 0:\n",
    "        sm = a[i][1] + b[j][1]\n",
    "        if sm > K:\n",
    "            j -= 1\n",
    "        else:\n",
    "            if mx <= sm :\n",
    "                if mx < sm:\n",
    "                    mx = sm\n",
    "                    ans=[]\n",
    "                ans.append([a[i][0],b[j][0]])\n",
    "                idx = j-1\n",
    "                while idx >= 0 and b[idx][1] == b[idx+1][1]:\n",
    "                    ans.append([a[i][0],b[idx][0]])\n",
    "                    idx -= 1\n",
    "            i += 1\n",
    "\n",
    "    return ans \n",
    "    "
   ]
  },
  {
   "cell_type": "code",
   "execution_count": 1,
   "metadata": {},
   "outputs": [
    {
     "name": "stdout",
     "output_type": "stream",
     "text": [
      "[[3, 1]]\n",
      "[[1, 3], [3, 2]]\n"
     ]
    }
   ],
   "source": [
    "\n",
    "def findPairs( a, b, target):\n",
    "    a.sort(key=lambda x: x[1])\n",
    "    b.sort(key=lambda x: x[1])\n",
    "    l, r = 0, len(b) - 1\n",
    "    ans = []\n",
    "    curDiff = float('inf')\n",
    "    while l < len(a) and r >= 0:\n",
    "        id1, i = a[l]\n",
    "        id2, j = b[r]\n",
    "        \n",
    "        if (target - i - j == curDiff):\n",
    "            ans.append([id1, id2])\n",
    "        elif (i + j <= target and target - i - j < curDiff):\n",
    "            ans = [[id1, id2]]\n",
    "            curDiff = target - i - j\n",
    "            \n",
    "        if (target > i + j):\n",
    "            l += 1\n",
    "        else:\n",
    "            r -= 1\n",
    "    return ans\n",
    "\n",
    "\n",
    "print(findPairs([[1, 8], [2, 7], [3, 14]], [[1, 5], [2, 10], [3, 14]], 20))\n",
    "print(findPairs([[1, 8], [2, 15], [3, 9]], [[1, 8], [2, 11], [3, 12]], 20))"
   ]
  },
  {
   "cell_type": "code",
   "execution_count": null,
   "metadata": {},
   "outputs": [],
   "source": []
  }
 ],
 "metadata": {
  "kernelspec": {
   "display_name": "Python 3",
   "language": "python",
   "name": "python3"
  },
  "language_info": {
   "codemirror_mode": {
    "name": "ipython",
    "version": 3
   },
   "file_extension": ".py",
   "mimetype": "text/x-python",
   "name": "python",
   "nbconvert_exporter": "python",
   "pygments_lexer": "ipython3",
   "version": "3.7.5"
  }
 },
 "nbformat": 4,
 "nbformat_minor": 2
}
