{
 "cells": [
  {
   "cell_type": "code",
   "execution_count": 2,
   "metadata": {},
   "outputs": [
    {
     "data": {
      "text/plain": [
       "2"
      ]
     },
     "execution_count": 2,
     "metadata": {},
     "output_type": "execute_result"
    }
   ],
   "source": [
    "def autoscale(ins, util):\n",
    "#     if not util or not ins: return 0\n",
    "    i=0\n",
    "    n = len(util)\n",
    "    while i<n:\n",
    "        u = util[i]\n",
    "        if u>60 and ins <= int(1e8):\n",
    "            ins *= 2\n",
    "            i += 10\n",
    "        elif u<25 and ins > 1:\n",
    "            ins = (ins+1)//2\n",
    "            i += 10\n",
    "        \n",
    "        i+=1\n",
    "        \n",
    "    return ins\n",
    "\n",
    "autoscale(2,[25,23,1,2,3,4,5,6,7,8,9,10,76,80])"
   ]
  },
  {
   "cell_type": "code",
   "execution_count": null,
   "metadata": {
    "collapsed": true
   },
   "outputs": [],
   "source": []
  }
 ],
 "metadata": {
  "kernelspec": {
   "display_name": "Python 3",
   "language": "python",
   "name": "python3"
  },
  "language_info": {
   "codemirror_mode": {
    "name": "ipython",
    "version": 3
   },
   "file_extension": ".py",
   "mimetype": "text/x-python",
   "name": "python",
   "nbconvert_exporter": "python",
   "pygments_lexer": "ipython3",
   "version": "3.7.5"
  }
 },
 "nbformat": 4,
 "nbformat_minor": 2
}
