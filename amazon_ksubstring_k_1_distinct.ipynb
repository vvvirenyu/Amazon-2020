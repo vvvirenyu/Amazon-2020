{
 "cells": [
  {
   "cell_type": "code",
   "execution_count": 46,
   "metadata": {},
   "outputs": [
    {
     "name": "stdout",
     "output_type": "stream",
     "text": [
      "defaultdict(<class 'int'>, {'w': 2, 'a': 2})\n",
      "defaultdict(<class 'int'>, {'w': 1, 'a': 2, 'g': 1})\n",
      "defaultdict(<class 'int'>, {'w': 1, 'a': 1, 'g': 1, 'l': 1})\n",
      "defaultdict(<class 'int'>, {'a': 1, 'g': 1, 'l': 1, 'k': 1})\n",
      "defaultdict(<class 'int'>, {'g': 1, 'l': 1, 'k': 1, 'n': 1})\n",
      "defaultdict(<class 'int'>, {'l': 1, 'k': 1, 'n': 1, 'a': 1})\n",
      "defaultdict(<class 'int'>, {'k': 1, 'n': 1, 'a': 1, 'g': 1})\n",
      "defaultdict(<class 'int'>, {'n': 1, 'a': 2, 'g': 1})\n",
      "defaultdict(<class 'int'>, {'a': 2, 'g': 2})\n",
      "defaultdict(<class 'int'>, {'a': 1, 'g': 2, 'w': 1})\n",
      "defaultdict(<class 'int'>, {'a': 1, 'g': 1, 'w': 1, 'u': 1})\n",
      "defaultdict(<class 'int'>, {'g': 1, 'w': 1, 'u': 1, 'n': 1})\n",
      "defaultdict(<class 'int'>, {'w': 1, 'u': 1, 'n': 1, 'a': 1})\n",
      "defaultdict(<class 'int'>, {'u': 1, 'n': 1, 'a': 1, 'g': 1})\n",
      "defaultdict(<class 'int'>, {'n': 1, 'a': 1, 'g': 1, 'k': 1})\n",
      "defaultdict(<class 'int'>, {'a': 1, 'g': 1, 'k': 1, 'w': 1})\n",
      "defaultdict(<class 'int'>, {'g': 1, 'k': 2, 'w': 1})\n",
      "defaultdict(<class 'int'>, {'k': 2, 'w': 2})\n",
      "defaultdict(<class 'int'>, {'k': 1, 'w': 2, 'a': 1})\n",
      "defaultdict(<class 'int'>, {'k': 1, 'w': 1, 'a': 1, 'g': 1})\n",
      "defaultdict(<class 'int'>, {'w': 1, 'a': 1, 'g': 1, 'l': 1})\n"
     ]
    },
    {
     "data": {
      "text/plain": [
       "['awag', 'naga', 'gagw', 'gkwk', 'wkwa']"
      ]
     },
     "execution_count": 46,
     "metadata": {},
     "output_type": "execute_result"
    }
   ],
   "source": [
    "from collections import defaultdict\n",
    "def ksubstring(s, k):\n",
    "    res = []\n",
    "    d = defaultdict(int)\n",
    "    \n",
    "    start= 0\n",
    "    \n",
    "    for end,c in enumerate(s):\n",
    "        d[c] = d.get(c,0) + 1\n",
    "        \n",
    "        if end-start+1 == k:\n",
    "            print(d)\n",
    "            if len(d) == k-1:\n",
    "                res.append(s[start:end+1])\n",
    "                \n",
    "            expire = s[start]\n",
    "            d[expire] -=1  \n",
    "            if d[expire] == 0: d.pop(expire)\n",
    "            \n",
    "            #sliding window\n",
    "            start += 1\n",
    "                \n",
    "    return res\n",
    "                \n",
    "\n",
    "ksubstring(\"wawaglknagagwunagkwkwagl\", 4)"
   ]
  },
  {
   "cell_type": "code",
   "execution_count": null,
   "metadata": {},
   "outputs": [],
   "source": []
  }
 ],
 "metadata": {
  "kernelspec": {
   "display_name": "Python 3",
   "language": "python",
   "name": "python3"
  },
  "language_info": {
   "codemirror_mode": {
    "name": "ipython",
    "version": 3
   },
   "file_extension": ".py",
   "mimetype": "text/x-python",
   "name": "python",
   "nbconvert_exporter": "python",
   "pygments_lexer": "ipython3",
   "version": "3.7.5"
  }
 },
 "nbformat": 4,
 "nbformat_minor": 2
}
