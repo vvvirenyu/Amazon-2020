{
 "cells": [
  {
   "cell_type": "code",
   "execution_count": null,
   "metadata": {},
   "outputs": [],
   "source": [
    "def winningSequence(n, upperBound, lowerBound):\n",
    "    nums = (upperBound - lowerBound) * 2 + 1\n",
    "    if nums < n:\n",
    "        return [-1]\n",
    "    ans = []\n",
    "    for i in range(min(upperBound - lowerBound + 1, n - 1)):\n",
    "        ans.append(upperBound - i)\n",
    "    for i in range(n - len(ans)):\n",
    "        ans.insert(0, upperBound - i - 1)\n",
    "    return ans\n"
   ]
  }
 ],
 "metadata": {
  "kernelspec": {
   "display_name": "Python 3",
   "language": "python",
   "name": "python3"
  },
  "language_info": {
   "codemirror_mode": {
    "name": "ipython",
    "version": 3
   },
   "file_extension": ".py",
   "mimetype": "text/x-python",
   "name": "python",
   "nbconvert_exporter": "python",
   "pygments_lexer": "ipython3",
   "version": "3.7.5"
  }
 },
 "nbformat": 4,
 "nbformat_minor": 2
}
