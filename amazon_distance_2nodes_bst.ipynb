{
 "cells": [
  {
   "cell_type": "code",
   "execution_count": 51,
   "metadata": {},
   "outputs": [
    {
     "data": {
      "text/plain": [
       "10"
      ]
     },
     "execution_count": 51,
     "metadata": {},
     "output_type": "execute_result"
    }
   ],
   "source": [
    "class Node:  \n",
    "  \n",
    "    def __init__(self, data):  \n",
    "        self.val = data  \n",
    "        self.left = None\n",
    "        self.right = None\n",
    "        \n",
    "def insert(root,newval): \n",
    "    \n",
    "    if root == None:\n",
    "        return Node(newval)  \n",
    "    elif root.val > newval:  \n",
    "        root.left = insert(root.left, newval)  \n",
    "    elif root.val < newval:  \n",
    "        root.right = insert(root.right, newval)  \n",
    "    return root \n",
    "\n",
    "\n",
    "def lca(root,x):\n",
    "    if not root or root.val == x : return 0\n",
    "    \n",
    "    elif root.val > x:\n",
    "        return 1+ lca(root.left, x)\n",
    "    else:\n",
    "        return 1+ lca(root.right, x)\n",
    "    \n",
    "def distBW2(root,a,b):\n",
    "    if not root: return 0\n",
    "    \n",
    "    if root.val > a and root.val > b:\n",
    "        return distBW2(root.left,a,b)\n",
    "    \n",
    "    if root.val < a and root.val < b:\n",
    "        return distBW2(root.right,a,b)\n",
    "    \n",
    "    if  a <= root.val <= b:\n",
    "        return lca(root,a) + lca(root,b)\n",
    "\n",
    "\n",
    "def findDist(nums,a,b):\n",
    "    if a>b:\n",
    "        a,b = b,a\n",
    "        \n",
    "    if a not in nums or b not in nums: return -1\n",
    "    \n",
    "    root = None\n",
    "    for num in nums: \n",
    "        root = insert(root,num)\n",
    "            \n",
    "    return distBW2(root,a,b)\n",
    "\n",
    "    \n",
    "# findDist([16,8,4,2,1,3,6,5,7,12,10,9,11,14,13,15,24,20,18,17,19,22,21,23,28,26,25,27,30,29,31],11,21)\n",
    "findDist([24, 6, 2, 22, 30, 25, 20, 15, 7, 8, 10, 9, 1],1,)\n",
    "\n",
    "    \n",
    "    "
   ]
  },
  {
   "cell_type": "code",
   "execution_count": null,
   "metadata": {},
   "outputs": [],
   "source": []
  },
  {
   "cell_type": "code",
   "execution_count": null,
   "metadata": {},
   "outputs": [],
   "source": []
  }
 ],
 "metadata": {
  "kernelspec": {
   "display_name": "Python 3",
   "language": "python",
   "name": "python3"
  },
  "language_info": {
   "codemirror_mode": {
    "name": "ipython",
    "version": 3
   },
   "file_extension": ".py",
   "mimetype": "text/x-python",
   "name": "python",
   "nbconvert_exporter": "python",
   "pygments_lexer": "ipython3",
   "version": "3.7.5"
  }
 },
 "nbformat": 4,
 "nbformat_minor": 2
}
