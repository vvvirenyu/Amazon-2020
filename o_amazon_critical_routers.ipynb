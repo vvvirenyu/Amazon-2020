{
 "cells": [
  {
   "cell_type": "code",
   "execution_count": 14,
   "metadata": {},
   "outputs": [
    {
     "ename": "TypeError",
     "evalue": "unsupported operand type(s) for +=: 'set' and 'generator'",
     "output_type": "error",
     "traceback": [
      "\u001b[0;31m---------------------------------------------------------------------------\u001b[0m",
      "\u001b[0;31mTypeError\u001b[0m                                 Traceback (most recent call last)",
      "\u001b[0;32m<ipython-input-14-4ad05f470132>\u001b[0m in \u001b[0;36m<module>\u001b[0;34m\u001b[0m\n\u001b[1;32m     38\u001b[0m \u001b[0mlinks_3\u001b[0m \u001b[0;34m=\u001b[0m \u001b[0;34m[\u001b[0m\u001b[0;34m[\u001b[0m\u001b[0;36m0\u001b[0m\u001b[0;34m,\u001b[0m \u001b[0;36m1\u001b[0m\u001b[0;34m]\u001b[0m\u001b[0;34m,\u001b[0m \u001b[0;34m[\u001b[0m\u001b[0;36m0\u001b[0m\u001b[0;34m,\u001b[0m \u001b[0;36m2\u001b[0m\u001b[0;34m]\u001b[0m\u001b[0;34m,\u001b[0m \u001b[0;34m[\u001b[0m\u001b[0;36m1\u001b[0m\u001b[0;34m,\u001b[0m \u001b[0;36m3\u001b[0m\u001b[0;34m]\u001b[0m\u001b[0;34m,\u001b[0m \u001b[0;34m[\u001b[0m\u001b[0;36m2\u001b[0m\u001b[0;34m,\u001b[0m \u001b[0;36m3\u001b[0m\u001b[0;34m]\u001b[0m\u001b[0;34m,\u001b[0m \u001b[0;34m[\u001b[0m\u001b[0;36m2\u001b[0m\u001b[0;34m,\u001b[0m \u001b[0;36m5\u001b[0m\u001b[0;34m]\u001b[0m\u001b[0;34m,\u001b[0m \u001b[0;34m[\u001b[0m\u001b[0;36m5\u001b[0m\u001b[0;34m,\u001b[0m \u001b[0;36m6\u001b[0m\u001b[0;34m]\u001b[0m\u001b[0;34m,\u001b[0m \u001b[0;34m[\u001b[0m\u001b[0;36m3\u001b[0m\u001b[0;34m,\u001b[0m \u001b[0;36m4\u001b[0m\u001b[0;34m]\u001b[0m\u001b[0;34m]\u001b[0m\u001b[0;34m\u001b[0m\u001b[0;34m\u001b[0m\u001b[0m\n\u001b[1;32m     39\u001b[0m \u001b[0;34m\u001b[0m\u001b[0m\n\u001b[0;32m---> 40\u001b[0;31m \u001b[0mprint\u001b[0m\u001b[0;34m(\u001b[0m\u001b[0mcriticalRouters\u001b[0m\u001b[0;34m(\u001b[0m\u001b[0mlinks_1\u001b[0m\u001b[0;34m)\u001b[0m\u001b[0;34m)\u001b[0m\u001b[0;34m\u001b[0m\u001b[0;34m\u001b[0m\u001b[0m\n\u001b[0m\u001b[1;32m     41\u001b[0m \u001b[0mprint\u001b[0m\u001b[0;34m(\u001b[0m\u001b[0mcriticalRouters\u001b[0m\u001b[0;34m(\u001b[0m\u001b[0mlinks_2\u001b[0m\u001b[0;34m)\u001b[0m\u001b[0;34m)\u001b[0m\u001b[0;34m\u001b[0m\u001b[0;34m\u001b[0m\u001b[0m\n\u001b[1;32m     42\u001b[0m \u001b[0mprint\u001b[0m\u001b[0;34m(\u001b[0m\u001b[0mcriticalRouters\u001b[0m\u001b[0;34m(\u001b[0m\u001b[0mlinks_3\u001b[0m\u001b[0;34m)\u001b[0m\u001b[0;34m)\u001b[0m\u001b[0;34m\u001b[0m\u001b[0;34m\u001b[0m\u001b[0m\n",
      "\u001b[0;32m<ipython-input-14-4ad05f470132>\u001b[0m in \u001b[0;36mcriticalRouters\u001b[0;34m(links)\u001b[0m\n\u001b[1;32m      3\u001b[0m \u001b[0;34m\u001b[0m\u001b[0m\n\u001b[1;32m      4\u001b[0m \u001b[0;32mdef\u001b[0m \u001b[0mcriticalRouters\u001b[0m\u001b[0;34m(\u001b[0m\u001b[0mlinks\u001b[0m\u001b[0;34m)\u001b[0m\u001b[0;34m:\u001b[0m\u001b[0;34m\u001b[0m\u001b[0;34m\u001b[0m\u001b[0m\n\u001b[0;32m----> 5\u001b[0;31m     \u001b[0;32mreturn\u001b[0m \u001b[0mcritical_nodes\u001b[0m\u001b[0;34m(\u001b[0m\u001b[0mbuild_graph\u001b[0m\u001b[0;34m(\u001b[0m\u001b[0mlinks\u001b[0m\u001b[0;34m)\u001b[0m\u001b[0;34m)\u001b[0m\u001b[0;34m\u001b[0m\u001b[0;34m\u001b[0m\u001b[0m\n\u001b[0m\u001b[1;32m      6\u001b[0m \u001b[0;34m\u001b[0m\u001b[0m\n\u001b[1;32m      7\u001b[0m \u001b[0;34m\u001b[0m\u001b[0m\n",
      "\u001b[0;32m<ipython-input-14-4ad05f470132>\u001b[0m in \u001b[0;36mcritical_nodes\u001b[0;34m(graph)\u001b[0m\n\u001b[1;32m     19\u001b[0m         \u001b[0mnew_graph\u001b[0m \u001b[0;34m=\u001b[0m \u001b[0mdict\u001b[0m\u001b[0;34m(\u001b[0m\u001b[0mgraph\u001b[0m\u001b[0;34m)\u001b[0m\u001b[0;34m\u001b[0m\u001b[0;34m\u001b[0m\u001b[0m\n\u001b[1;32m     20\u001b[0m         \u001b[0msiblings\u001b[0m \u001b[0;34m=\u001b[0m \u001b[0mnew_graph\u001b[0m\u001b[0;34m.\u001b[0m\u001b[0mpop\u001b[0m\u001b[0;34m(\u001b[0m\u001b[0mi\u001b[0m\u001b[0;34m)\u001b[0m\u001b[0;34m\u001b[0m\u001b[0;34m\u001b[0m\u001b[0m\n\u001b[0;32m---> 21\u001b[0;31m         \u001b[0mresult\u001b[0m \u001b[0;34m+=\u001b[0m \u001b[0;34m(\u001b[0m\u001b[0mi\u001b[0m \u001b[0;32mfor\u001b[0m \u001b[0msibling\u001b[0m \u001b[0;32min\u001b[0m \u001b[0msiblings\u001b[0m \u001b[0;32mfor\u001b[0m \u001b[0mnode\u001b[0m \u001b[0;32min\u001b[0m \u001b[0mnew_graph\u001b[0m \u001b[0;32mif\u001b[0m \u001b[0;32mnot\u001b[0m \u001b[0mconnected\u001b[0m\u001b[0;34m(\u001b[0m\u001b[0msibling\u001b[0m\u001b[0;34m,\u001b[0m \u001b[0mnode\u001b[0m\u001b[0;34m,\u001b[0m \u001b[0mnew_graph\u001b[0m\u001b[0;34m)\u001b[0m\u001b[0;34m)\u001b[0m\u001b[0;34m\u001b[0m\u001b[0;34m\u001b[0m\u001b[0m\n\u001b[0m\u001b[1;32m     22\u001b[0m     \u001b[0;32mreturn\u001b[0m \u001b[0mresult\u001b[0m\u001b[0;34m\u001b[0m\u001b[0;34m\u001b[0m\u001b[0m\n\u001b[1;32m     23\u001b[0m \u001b[0;34m\u001b[0m\u001b[0m\n",
      "\u001b[0;31mTypeError\u001b[0m: unsupported operand type(s) for +=: 'set' and 'generator'"
     ]
    }
   ],
   "source": [
    "from collections import defaultdict\n",
    "\n",
    "\n",
    "def criticalRouters(links):\n",
    "    return critical_nodes(build_graph(links))\n",
    "\n",
    "\n",
    "def build_graph(links):\n",
    "    result = defaultdict(list)\n",
    "    for a, b in links:\n",
    "        result[a].append(b)\n",
    "        result[b].append(a)\n",
    "    return result\n",
    "\n",
    "\n",
    "def critical_nodes(graph):\n",
    "    result = set()\n",
    "    for i in graph.keys():\n",
    "        new_graph = dict(graph)\n",
    "        siblings = new_graph.pop(i)\n",
    "        result += (i for sibling in siblings for node in new_graph if not connected(sibling, node, new_graph))\n",
    "    return result\n",
    "\n",
    "\n",
    "def connected(start, end, graph, visited=()):\n",
    "    if start == end:\n",
    "        return True\n",
    "    for n in graph.get(start, []):\n",
    "        if n in visited:\n",
    "            continue\n",
    "        if connected(n, end, graph, visited + (start,)):\n",
    "            return True\n",
    "    return False\n",
    "\n",
    "\n",
    "links_1 = [[1, 2], [2, 3], [3, 4], [4, 5], [6, 3], ]\n",
    "links_2 = [[1, 2], [1, 3], [2, 4], [3, 4], [3, 6], [4, 5], [6, 7], ]\n",
    "links_3 = [[0, 1], [0, 2], [1, 3], [2, 3], [2, 5], [5, 6], [3, 4]]\n",
    "\n",
    "print(criticalRouters(links_1))\n",
    "print(criticalRouters(links_2))\n",
    "print(criticalRouters(links_3))"
   ]
  },
  {
   "cell_type": "code",
   "execution_count": 10,
   "metadata": {},
   "outputs": [
    {
     "name": "stdout",
     "output_type": "stream",
     "text": [
      "[2, 3, 5]\n",
      "[1, 2]\n",
      "[1]\n",
      "[2, 3, 5]\n"
     ]
    }
   ],
   "source": [
    "def union(parents, x, y):\n",
    "    px = find(parents,x)\n",
    "    py = find(parents,y)\n",
    "    if px != py: parents[px] = py\n",
    "\n",
    "def find( parents, x):\n",
    "    if parents[x] == x: return x\n",
    "    else:\n",
    "        p = find(parents, parents[x])\n",
    "        parents[x] = p\n",
    "        return p\n",
    "\n",
    "def count( parents):\n",
    "    rst = 0\n",
    "    for i, node in enumerate(parents):\n",
    "        if i == node: rst += 1\n",
    "    return rst\n",
    "\n",
    "def countComponents( n, edges, rm_node):\n",
    "    \"\"\"\n",
    "    1. Union-find\n",
    "    2. Count\n",
    "    \"\"\"\n",
    "    parents = [i for i in range(n)]\n",
    "    for edge in edges:\n",
    "        node1, node2 = edge[0], edge[1]\n",
    "        if node1 == rm_node or node2 == rm_node: continue\n",
    "        union(parents, node1, node2)\n",
    "    return count(parents)\n",
    "\n",
    "def criticalRouters(n_node, n_edges,  edges):\n",
    "    \"\"\"\n",
    "    1. Remove each node one by one and\n",
    "    2. Run countComponents func for the remaining edges\n",
    "    3. If result is not two, add that node into result list\n",
    "    \"\"\"\n",
    "    rst = list()\n",
    "    for i in range(n_node):\n",
    "        n_comp = countComponents(n_node, edges, i)\n",
    "        if n_comp != 2: rst.append(i)\n",
    "    return rst\n",
    "\n",
    "\n",
    "print(criticalRouters(7, 7, [[0, 1], [0, 2], [1, 3], [2, 3], [2, 5], [5, 6], [3, 4]]))\n",
    "print(criticalRouters(4, 3, [[0, 1], [1, 2], [2, 3]]))\n",
    "print(criticalRouters(7, 8, [[0, 1], [0, 2], [2, 1], [1, 6], [1, 3], [1, 4], [3, 5], [4, 5]]))\n",
    "print(criticalRouters(7,7,[[0, 1], [0, 2], [1, 3], [2, 3], [2, 5], [5, 6], [3, 4]]))"
   ]
  },
  {
   "cell_type": "code",
   "execution_count": null,
   "metadata": {},
   "outputs": [],
   "source": []
  }
 ],
 "metadata": {
  "kernelspec": {
   "display_name": "Python 3",
   "language": "python",
   "name": "python3"
  },
  "language_info": {
   "codemirror_mode": {
    "name": "ipython",
    "version": 3
   },
   "file_extension": ".py",
   "mimetype": "text/x-python",
   "name": "python",
   "nbconvert_exporter": "python",
   "pygments_lexer": "ipython3",
   "version": "3.7.5"
  }
 },
 "nbformat": 4,
 "nbformat_minor": 2
}
