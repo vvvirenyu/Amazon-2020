{
 "cells": [
  {
   "cell_type": "code",
   "execution_count": 2,
   "metadata": {},
   "outputs": [
    {
     "name": "stdout",
     "output_type": "stream",
     "text": [
      "True\n"
     ]
    }
   ],
   "source": [
    "def isWinner(code_list, shop_cart):\n",
    "    if not code_list: return 1\n",
    "    if not shop_cart: return 0\n",
    "    \n",
    "    codesetindex,matchfromindex = 0,0\n",
    "    \n",
    "    while codesetindex<len(code_list) and matchfromindex+len(code_list[codesetindex]) <= len(shop_cart):\n",
    "        match = True\n",
    "        \n",
    "        for k in range(len(code_list[codesetindex])):\n",
    "            if code_list[codesetindex][k] != 'anything' and code_list[codesetindex][k] != shop_cart[matchfromindex+k]:\n",
    "                match = False\n",
    "                break\n",
    "        \n",
    "        if match:\n",
    "            matchfromindex += len(code_list[codesetindex])\n",
    "            codesetindex += 1\n",
    "        else:\n",
    "            matchfromindex += 1\n",
    "    return codesetindex == len(code_list)\n",
    "\n",
    "\n",
    "\n",
    "\n",
    "# print(isWinner([[ \"apple\", \"apple\" ], [ \"banana\", \"anything\", \"banana\" ]], [\"orange\", \"apple\", \"apple\", \"banana\", \"orange\", \"banana\"]))\n",
    "# print(isWinner([[ \"apple\", \"apple\" ], [ \"banana\", \"anything\", \"banana\" ]], [\"banana\", \"orange\", \"banana\", \"apple\", \"apple\"]))\n",
    "# print(isWinner([[ \"apple\", \"apple\" ], [ \"banana\", \"anything\", \"banana\" ]], [\"apple\", \"banana\", \"apple\", \"banana\", \"orange\", \"banana\"]))\n",
    "# print(isWinner([[ \"apple\", \"apple\" ], [ \"apple\", \"apple\", \"banana\" ]],[\"apple\", \"apple\", \"apple\", \"banana\"]))\n",
    "# print(isWinner([[ \"apple\", \"apple\" ], [ \"banana\", \"anything\", \"banana\" ]],[\"orange\", \"apple\", \"apple\", \"banana\", \"orange\", \"banana\"]))\n",
    "# print(isWinner([[ \"apple\", \"apple\" ], [ \"banana\", \"anything\", \"banana\" ]],[\"apple\", \"apple\", \"orange\", \"orange\", \"banana\", \"apple\", \"banana\", \"banana\"]))\n",
    "# print(isWinner([[ \"anything\", \"apple\" ], [ \"banana\", \"anything\", \"banana\" ]],[\"orange\", \"grapes\", \"apple\", \"orange\", \"orange\", \"banana\", \"apple\", \"banana\", \"banana\"]))\n",
    "# print(isWinner([[\"apple\", \"orange\"], [\"orange\", \"banana\", \"orange\"]],[\"apple\", \"orange\", \"banana\", \"orange\", \"orange\", \"banana\", \"orange\", \"grape\"]))\n",
    "# print(isWinner([[ \"anything\", \"anything\", \"anything\", \"apple\" ], [ \"banana\", \"anything\", \"banana\"]], [\"orange\", \"apple\", \"banana\", \"orange\", \"apple\", \"orange\", \"orange\", \"banana\", \"apple\", \"banana\"]))\n",
    "\n",
    "print(isWinner([[  \"apple\", \"apple\"]], [ \"apple\", \"apple\"]))"
   ]
  },
  {
   "cell_type": "code",
   "execution_count": null,
   "metadata": {},
   "outputs": [],
   "source": []
  }
 ],
 "metadata": {
  "kernelspec": {
   "display_name": "Python 3",
   "language": "python",
   "name": "python3"
  },
  "language_info": {
   "codemirror_mode": {
    "name": "ipython",
    "version": 3
   },
   "file_extension": ".py",
   "mimetype": "text/x-python",
   "name": "python",
   "nbconvert_exporter": "python",
   "pygments_lexer": "ipython3",
   "version": "3.7.5"
  }
 },
 "nbformat": 4,
 "nbformat_minor": 2
}
